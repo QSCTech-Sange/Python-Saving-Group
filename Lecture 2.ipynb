{
 "cells": [
  {
   "cell_type": "markdown",
   "metadata": {
    "slideshow": {
     "slide_type": "slide"
    }
   },
   "source": [
    "# Python 拯救小组\n",
    "第二期 \n",
    "\n",
    "第一期补充 + 答疑\n",
    "\n",
    ">在主页上下载Slides记得浏览顺序是**能下则下，否则向右**。"
   ]
  },
  {
   "cell_type": "markdown",
   "metadata": {
    "slideshow": {
     "slide_type": "slide"
    }
   },
   "source": [
    "# 杨宇昊"
   ]
  },
  {
   "cell_type": "markdown",
   "metadata": {
    "slideshow": {
     "slide_type": "fragment"
    }
   },
   "source": [
    "大三，金融学"
   ]
  },
  {
   "cell_type": "markdown",
   "metadata": {
    "slideshow": {
     "slide_type": "subslide"
    }
   },
   "source": [
    "## 项目与经历\n",
    "+ 求是潮技术研发中心  维护求是潮手机站安卓版\n",
    "+ Github 上 Data-Analysis 项目协同开发者\n",
    "+ Udacity 深度学习学位证书\n",
    "+ Python 98/5.0\n",
    "+ 网易游戏实习"
   ]
  },
  {
   "cell_type": "markdown",
   "metadata": {
    "slideshow": {
     "slide_type": "subslide"
    }
   },
   "source": [
    "## 获奖情况\n",
    "+ 招商银行 Fintech 金融科技挑战赛全国百强（58名）\n",
    "+ 浙江大学C语言趣味竞赛 二等奖\n",
    "+ 浙江大学信息安全挑战赛 62名\n",
    "+ 美国大学生数学建模大赛 H奖"
   ]
  },
  {
   "cell_type": "markdown",
   "metadata": {
    "slideshow": {
     "slide_type": "subslide"
    }
   },
   "source": [
    "# 上过的计院课程\n",
    "+ 计算机科学基础\n",
    "+ 物联网与信息电子应用导论\n",
    "+ 现代热门信息技术\n",
    "+ C 语言程序设计\n",
    "+ **面向对象程序设计**\n",
    "+ **数据结构基础**\n",
    "+ **计算理论**\n",
    "+ 人工智能初步\n",
    "+ **数据库系统**\n",
    "+ **软件工程**\n",
    "+ Linux 应用技术基础\n",
    "+ **信息系统安全**\n",
    "+ **汇编语言程序设计**\n",
    "> 加粗为硬核课程\n",
    ">\n",
    "> 建议修读的为数据结构基础，面向对象程序设计和数据库系统。建议自学一些 Markdown, LaTex, Git, Linux，对以后会很有帮助。"
   ]
  },
  {
   "cell_type": "markdown",
   "metadata": {
    "slideshow": {
     "slide_type": "slide"
    }
   },
   "source": [
    "# 什么是Python? \n",
    "+ 稳居热门语言前三\n",
    "+ 脚本语言(解释型) or 编译型?\n",
    "+ 便于面向对象\n",
    "+ 跨平台\n",
    "+ Python2 和 Python3\n",
    "+ 应用方向：几乎全能"
   ]
  },
  {
   "cell_type": "markdown",
   "metadata": {
    "slideshow": {
     "slide_type": "slide"
    }
   },
   "source": [
    "# Question：什么是解释型语言？"
   ]
  },
  {
   "cell_type": "markdown",
   "metadata": {
    "slideshow": {
     "slide_type": "slide"
    }
   },
   "source": [
    "# Python 的特点？\n",
    "+ 强制缩进\n",
    "+ 代码极短\n",
    "> 人生苦短，我用Python\n",
    "+ 没有大括号\n",
    "+ 可读性极强\n",
    "+ 运行效率极低（可嵌入C语言提高效率）\n",
    "+ 对新手尤其友好\n",
    "> 笑话一则\n",
    ">\n",
    "> “妈妈，我买了一个游标卡尺！”\n",
    ">\n",
    "> “看来你做实验会轻松很多呢。”\n",
    ">\n",
    "> “不，我是为了学Python。”"
   ]
  },
  {
   "cell_type": "markdown",
   "metadata": {
    "slideshow": {
     "slide_type": "slide"
    }
   },
   "source": [
    "# Python 之禅"
   ]
  },
  {
   "cell_type": "code",
   "execution_count": 4,
   "metadata": {
    "slideshow": {
     "slide_type": "fragment"
    }
   },
   "outputs": [
    {
     "name": "stdout",
     "output_type": "stream",
     "text": [
      "The Zen of Python, by Tim Peters\n",
      "\n",
      "Beautiful is better than ugly.\n",
      "Explicit is better than implicit.\n",
      "Simple is better than complex.\n",
      "Complex is better than complicated.\n",
      "Flat is better than nested.\n",
      "Sparse is better than dense.\n",
      "Readability counts.\n",
      "Special cases aren't special enough to break the rules.\n",
      "Although practicality beats purity.\n",
      "Errors should never pass silently.\n",
      "Unless explicitly silenced.\n",
      "In the face of ambiguity, refuse the temptation to guess.\n",
      "There should be one-- and preferably only one --obvious way to do it.\n",
      "Although that way may not be obvious at first unless you're Dutch.\n",
      "Now is better than never.\n",
      "Although never is often better than *right* now.\n",
      "If the implementation is hard to explain, it's a bad idea.\n",
      "If the implementation is easy to explain, it may be a good idea.\n",
      "Namespaces are one honking great idea -- let's do more of those!\n"
     ]
    }
   ],
   "source": [
    "import this"
   ]
  },
  {
   "cell_type": "markdown",
   "metadata": {
    "slideshow": {
     "slide_type": "slide"
    }
   },
   "source": [
    "# Python 的学习方法\n",
    "+ 善用 互联网\n",
    "+ 善用 `Debug`\n",
    "+ 多写"
   ]
  },
  {
   "cell_type": "markdown",
   "metadata": {
    "slideshow": {
     "slide_type": "subslide"
    }
   },
   "source": [
    "## 善用互联网\n",
    "+ [Python官方文档（中文版）](https://docs.python.org/zh-cn/3/)\n",
    "+ [菜鸟教程](https://www.runoob.com/python3/python3-tutorial.html)\n",
    "+ [易百教程](https://www.yiibai.com/)\n",
    "+ 使用搜索引擎\n",
    "> 尤为推荐菜鸟教程，写得很清晰，学习效率很高。不太建议看书。\n",
    ">\n",
    "> 易百教程里有PyCharm教程"
   ]
  },
  {
   "cell_type": "markdown",
   "metadata": {
    "slideshow": {
     "slide_type": "fragment"
    }
   },
   "source": [
    "## 善用 `Debug`\n",
    "调试非常非常重要，可以让你写代码事半功倍。\n",
    "`PyCharm` 的调试功能极为强大。"
   ]
  },
  {
   "cell_type": "markdown",
   "metadata": {
    "slideshow": {
     "slide_type": "fragment"
    }
   },
   "source": [
    "## 多写\n",
    "多写多练多熟悉。"
   ]
  },
  {
   "cell_type": "markdown",
   "metadata": {
    "slideshow": {
     "slide_type": "slide"
    }
   },
   "source": [
    "# Python 学习核心框架\n",
    "语法 + 数据结构"
   ]
  },
  {
   "cell_type": "markdown",
   "metadata": {
    "slideshow": {
     "slide_type": "slide"
    }
   },
   "source": [
    "## 语法\n",
    "+ 变量\n",
    "+ 条件语句，循环语句\n",
    "+ 函数（简要了解）\n",
    "+ 面向对象与引入库（简要了解）\n",
    "+ 递归（虽然只要简要了解但是相对比较难）\n",
    "+ **注释**，记得写注释对于学习很重要。\n",
    "> 总体而言语法都是非常简单的内容。"
   ]
  },
  {
   "cell_type": "markdown",
   "metadata": {
    "slideshow": {
     "slide_type": "slide"
    }
   },
   "source": [
    "## 数据结构\n",
    "重点和难点"
   ]
  },
  {
   "cell_type": "markdown",
   "metadata": {
    "slideshow": {
     "slide_type": "fragment"
    }
   },
   "source": [
    "+ 字符串\n",
    "+ 列表\n",
    "+ 元组\n",
    "+ 字典\n",
    "+ 集合\n",
    "+ **以及它们的内置函数**\n",
    "> 尤其是相关的函数，掌握了以后可以事半功倍。"
   ]
  },
  {
   "cell_type": "markdown",
   "metadata": {
    "slideshow": {
     "slide_type": "slide"
    }
   },
   "source": [
    "# 工欲善其事，必先利其器。\n",
    "Python 相关IDE和编辑器推荐，是时候拒绝 IDLE 了。"
   ]
  },
  {
   "cell_type": "markdown",
   "metadata": {
    "slideshow": {
     "slide_type": "subslide"
    }
   },
   "source": [
    "# IDE 集成开发环境\n",
    "大型，厚重，集成了大量的开发功能。打开通常要十几秒到半分钟之间。\n",
    "\n",
    "例子： `Vistual Studio`\n"
   ]
  },
  {
   "cell_type": "markdown",
   "metadata": {
    "slideshow": {
     "slide_type": "fragment"
    }
   },
   "source": [
    "# Editor 编辑器\n",
    "本身就是一个记事本，不能连接编译器。\n",
    "\n",
    "例子：`VS Code` `Sublime`"
   ]
  },
  {
   "cell_type": "markdown",
   "metadata": {
    "slideshow": {
     "slide_type": "slide"
    }
   },
   "source": [
    "# IDE 推荐\n",
    "+ **PyCharm**\n",
    "  分为专业版和社区版（免费）\n",
    "  \n",
    "  专业版可以用学生帐号注册从而免费使用。\n",
    "  \n",
    "  - 优点\n",
    "      + 极为强大的Debug功能\n",
    "      + 极为强大的代码提示和修改意见\n",
    "      + 极为强大的错误提醒\n",
    "      + 多平台体验一致\n",
    "  - 缺点\n",
    "      + 打开速度较慢（十秒～三十秒）\n",
    "      + 配置环境对于新手来说略显复杂\n",
    "      + 默认英文版，汉化补丁安装繁琐\n",
    "      + 占用空间较大 ( >500M)\n",
    "> **强烈推荐**，我认为每个新手都应该从 PyCharm 入门\n",
    ">\n",
    "> 这节课重点讲 PyCharm 的使用和Debug。"
   ]
  },
  {
   "cell_type": "markdown",
   "metadata": {
    "slideshow": {
     "slide_type": "slide"
    }
   },
   "source": [
    "# PyCharm \n",
    "1. [下载安装](https://www.jetbrains.com/pycharm/download/)\n",
    "需要选择合适的操作系统和版本（社区版功能已经足够）\n",
    "![PyCharm](img/PyCharm.png)"
   ]
  },
  {
   "cell_type": "markdown",
   "metadata": {
    "slideshow": {
     "slide_type": "slide"
    }
   },
   "source": [
    "# 编译环境\n",
    "\n",
    "在File->Setting->Projec: xxx 下找到 Project Interpreter。然后修改为你需要的 Python 解释器。注意这个地方一定要注意的是：在选择 Python 解释器的时候，一定要选择到 python.exe 这个文件，而不是 python 的安装文件夹。也可在下一张Slides里的内容改。\n",
    "![编译环境](img/interpreter.png)"
   ]
  },
  {
   "cell_type": "markdown",
   "metadata": {
    "slideshow": {
     "slide_type": "slide"
    }
   },
   "source": [
    "# 新建项目\n",
    "\n",
    "新建一个项目，选择Pure Python,设置项目的存放路径，设置项目的编译环境。上一步设好以后就在 existing interpreter 中选，没有设好就在 New Environment 里设置 python.exe 的路径。你的编译器可能不是 conda，这无关紧要。\n",
    "![新建项目](img/newProject.png)"
   ]
  },
  {
   "cell_type": "markdown",
   "metadata": {
    "slideshow": {
     "slide_type": "slide"
    }
   },
   "source": [
    "# 新建文件\n",
    "在左侧找到新建的文件夹，在其中新建一个 python　file文件，如图所示。你可以随便给文件起个名字。\n",
    "![img](img/newFile.png)"
   ]
  },
  {
   "cell_type": "markdown",
   "metadata": {
    "slideshow": {
     "slide_type": "slide"
    }
   },
   "source": [
    "# 配置入口\n",
    "配置你的项目从哪里运行，即刚刚新建的文件。点击右上角的 Add Configuration。点击右上角的加号，选择Ｐython。在　script path　里选择新建的python文件。\n",
    "![img](img/path.png)"
   ]
  },
  {
   "cell_type": "markdown",
   "metadata": {
    "slideshow": {
     "slide_type": "slide"
    }
   },
   "source": [
    "# 写代码\n",
    "你可以在这里写代码，右上角点击运行。以后每次要写代码的时候，打开PyCharm，你可以直接在这个文件里删掉所有代码再新写代码，不用新建一个项目，不用重新配置环境，一劳永逸。\n",
    "![img](img/hello.png)"
   ]
  },
  {
   "cell_type": "markdown",
   "metadata": {
    "slideshow": {
     "slide_type": "slide"
    }
   },
   "source": [
    "# 调试\n",
    "写好代码发现有问题需要调试，先找到你想要让程序停下来的行数，在代码序号和代码之间的空格地方点击一下，会出现一个红圈，称为断点。点击运行旁边的虫子按钮，即开始调试。程序运行到断点处会停止，你可以手动点击下一步，每一步观察变量之间的变化。\n",
    "![img](img/debug.png)"
   ]
  },
  {
   "cell_type": "markdown",
   "metadata": {
    "slideshow": {
     "slide_type": "slide"
    }
   },
   "source": [
    "# Question: 什么是 `pip` ？"
   ]
  },
  {
   "cell_type": "markdown",
   "metadata": {
    "slideshow": {
     "slide_type": "slide"
    }
   },
   "source": [
    "# IDE 推荐\n",
    "+ Anaconda\n",
    "  实际上不能算一个IDE，它集成了很多东西。\n",
    "  \n",
    "  主要需要的是两个，`conda`和`jupyter notebook`。\n",
    "  \n",
    "  - `conda` 相当于一个包管理器 + 环境管理器，是数据科学不可少的管理器。\n",
    "  \n",
    "  - `jupyter notebook` 可以方便地将代码和优雅的文本结合在一个文件里，使得展示更加优雅。文本采用`Markdown`语法，是很棒很简单的语法，推荐学习一下。下节课可能会讲 Markdown 语法。\n",
    " \n",
    "> 一般来说不搞数据科学, `Anaconda`用处不是太大。`jupyter notebook`上写代码体验很差。主要是机器学习的一些常用包都在`conda`包管理器里。可以利用`conda`下载包，配好环境，再用`Pycharm`写。展示的时候用`jupyter notebook`将代码和文本结合在一起。`anaconda`在`Windows`表现下略不稳定，推荐在`Mac OS`或者`Linux`下运行。"
   ]
  },
  {
   "cell_type": "markdown",
   "metadata": {
    "slideshow": {
     "slide_type": "slide"
    }
   },
   "source": [
    "# 编辑器推荐\n",
    "+ VS code 界面美观，自己可连接控制台。代码高亮和提示都不错。配环境不太简单。\n",
    "> 还是不建议新手使用编辑器来写Python"
   ]
  },
  {
   "cell_type": "markdown",
   "metadata": {
    "slideshow": {
     "slide_type": "slide"
    }
   },
   "source": [
    "# 题目讲解"
   ]
  },
  {
   "cell_type": "markdown",
   "metadata": {
    "slideshow": {
     "slide_type": "slide"
    }
   },
   "source": [
    "# 字典合并\n",
    "\n",
    "输入用字符串表示两个字典，输出合并后的字典,字典的键用一个字母或数字表示。注意：1和‘1’是不同的关键字！\n",
    "\n",
    "在第一行中输入第一个字典字符串 在第二行中输入第二个字典字符串\n",
    "\n",
    "在一行中输出合并的字典，输出按字典序。\"1\"的ASCII吗为49,大于1，排序时1在前，\"1\"在后，其它的也一样。\n",
    "\n",
    "输入样例1:\n",
    "在这里给出一组输入。例如：\n",
    "```\n",
    "{1:3,2:5}\n",
    "{1:5,3:7} \n",
    "```\n",
    "输出样例1:\n",
    "在这里给出相应的输出。例如：\n",
    "```\n",
    "{1:8,2:5,3:7}\n",
    "```\n",
    "输入样例2:\n",
    "在这里给出一组输入。例如：\n",
    "```\n",
    "{\"1\":3,1:4}\n",
    "{\"a\":5,\"1\":6}\n",
    "```\n",
    "输出样例2:\n",
    "在这里给出相应的输出。例如：\n",
    "```\n",
    "{1:4,\"1\":9,\"a\":5}\n",
    "```"
   ]
  },
  {
   "cell_type": "markdown",
   "metadata": {
    "slideshow": {
     "slide_type": "slide"
    }
   },
   "source": [
    "# 解题思路\n",
    "1. 首先用`eval()`函数读入两个字典。\n",
    "2. 遍历第一个字典的键，如果键在第二个字典的键中，那么第一个字典的这个键的值等于它们两个键值之和。\n",
    "3. 遍历第二个字典的键，如果键不在第一个字典的键中，那么第一个字典添加这个键和键值。\n",
    "4. \\*对第一个字典排序并输出。\n",
    "> 对字典的排序难度过大，考试不会出，前面几步还是基本的，需要掌握。"
   ]
  },
  {
   "cell_type": "code",
   "execution_count": 33,
   "metadata": {
    "slideshow": {
     "slide_type": "slide"
    }
   },
   "outputs": [
    {
     "name": "stdout",
     "output_type": "stream",
     "text": [
      "{\"1\":3,1:4}\n",
      "{\"a\":5,\"1\":6}\n"
     ]
    }
   ],
   "source": [
    "# 读入两个字典\n",
    "dict_1 = eval(input())\n",
    "dict_2 = eval(input())\n",
    "\n",
    "# 遍历第一个字典的键，如果键在第二个字典的键中，\n",
    "# 那么第一个字典的这个键的值等于它们两个键值之和。\n",
    "for i in list(dict_1.keys()): \n",
    "    if i in dict_2.keys(): \n",
    "        dict_1[i] = dict_1[i] + dict_2[i] \n",
    "        \n",
    "# 遍历第二个字典的键，如果键不在第一个字典的键中,\n",
    "# 那么第一个字典的、添加这个键和键值。\n",
    "for i in list(dict_2.keys()): \n",
    "    if i not in (dict_1.keys()): \n",
    "        dict_1[i] = dict_2[i] "
   ]
  },
  {
   "cell_type": "code",
   "execution_count": 34,
   "metadata": {
    "slideshow": {
     "slide_type": "slide"
    }
   },
   "outputs": [],
   "source": [
    "# 对字典按键排序，用元组列表的形式返回\n",
    "# 因为str和int在排序里无法直接比较，\n",
    "# 所以将dict_1拆成int和str两部分\n",
    "# int 永远排在str前面\n",
    "dict_num = {}\n",
    "dict_letter = {}\n",
    "for i in list(dict_1.keys()): \n",
    "    if type(i).__name__ == 'int':\n",
    "        dict_num[i] = dict_1[i]\n",
    "for i in list(dict_1.keys()): \n",
    "    if type(i).__name__ == 'str':\n",
    "        dict_letter[i] = dict_1[i]"
   ]
  },
  {
   "cell_type": "code",
   "execution_count": 35,
   "metadata": {
    "slideshow": {
     "slide_type": "slide"
    }
   },
   "outputs": [
    {
     "name": "stdout",
     "output_type": "stream",
     "text": [
      "{1:4,\"1\":9,\"a\":5}\n"
     ]
    }
   ],
   "source": [
    "# 分别对int和str的部分排序，返回一个元祖列表\n",
    "tuple_num = sorted(dict_num.items(), key=lambda dict_num:dict_num[0],reverse = False)\n",
    "tuple_str = sorted(dict_letter.items(), key=lambda dict_letter:dict_letter[0],reverse = False)\n",
    "# 设定要输出的字符串开头\n",
    "output = \"{\"\n",
    "# 将int和str的内容添加进去\n",
    "for i in tuple_num:\n",
    "    output += str(i[0]) + ':' + str(i[1]) + ','\n",
    "for i in tuple_str:\n",
    "    output += '\"'+ i[0] + '\"' + ':' + str(i[1]) + ','\n",
    "# 设定要输出的字符串结尾\n",
    "output = output[:-1] + '}'\n",
    "# 输出\n",
    "print(output)"
   ]
  },
  {
   "cell_type": "markdown",
   "metadata": {
    "slideshow": {
     "slide_type": "slide"
    }
   },
   "source": [
    "## 统计字符串各字符出现次数"
   ]
  },
  {
   "cell_type": "code",
   "execution_count": null,
   "metadata": {
    "slideshow": {
     "slide_type": "fragment"
    }
   },
   "outputs": [],
   "source": [
    "mstr = \"Hello world\"\n",
    "mlist = list(mstr)\n",
    "___(1)___\n",
    "___(2)___\n",
    "    if mdict.get(e,-1) == -1:\n",
    "        mdict[e] = 1\n",
    "    else:\n",
    "        mdict[e] += 1\n",
    "for key,value in ___(3)___:\n",
    "    print(key,value)"
   ]
  },
  {
   "cell_type": "markdown",
   "metadata": {
    "slideshow": {
     "slide_type": "fragment"
    }
   },
   "source": [
    "A) midct.values() |B) mdict.items() | C) mdict.keys()\n",
    ":- | :-: | -: \n",
    "D) mdict = {} | E) mdict = \\[\\]  | F) mdict = ()\n",
    "G) for key in mlist: | H) for e in mlist:  | I) for value in mstr:\n"
   ]
  },
  {
   "cell_type": "markdown",
   "metadata": {
    "slideshow": {
     "slide_type": "fragment"
    }
   },
   "source": [
    "### 解题思路\n",
    "从上看或者从下看都可以。先可以判断2是接着一个循环语句，所以在GHI中选一个，3是一个迭代对象，所以在ABC中选一个，1是在DEF中选一个。\n",
    "\n",
    "迭代对象有两个参数，那很明显只能是B，字典的创建是大括号，是D，循环有e肯定是H。"
   ]
  },
  {
   "cell_type": "markdown",
   "metadata": {
    "slideshow": {
     "slide_type": "slide"
    }
   },
   "source": [
    "# 递归\n",
    "+ 函数调用自己\n",
    "+ 需要有终止条件"
   ]
  },
  {
   "cell_type": "markdown",
   "metadata": {
    "slideshow": {
     "slide_type": "slide"
    }
   },
   "source": [
    "# 例子\n",
    "## Fibonacci数列"
   ]
  },
  {
   "cell_type": "code",
   "execution_count": 1,
   "metadata": {
    "slideshow": {
     "slide_type": "fragment"
    }
   },
   "outputs": [],
   "source": [
    "def fibonacci(i):\n",
    "    if i == 1 or i == 2:\n",
    "        return 1\n",
    "    return fibonacci(i-1) + fibonacci(i-2)"
   ]
  },
  {
   "cell_type": "code",
   "execution_count": 2,
   "metadata": {
    "slideshow": {
     "slide_type": "fragment"
    }
   },
   "outputs": [
    {
     "data": {
      "text/plain": [
       "5"
      ]
     },
     "execution_count": 2,
     "metadata": {},
     "output_type": "execute_result"
    }
   ],
   "source": [
    "fibonacci(5)"
   ]
  },
  {
   "cell_type": "code",
   "execution_count": 3,
   "metadata": {
    "slideshow": {
     "slide_type": "fragment"
    }
   },
   "outputs": [
    {
     "data": {
      "text/plain": [
       "55"
      ]
     },
     "execution_count": 3,
     "metadata": {},
     "output_type": "execute_result"
    }
   ],
   "source": [
    "fibonacci(10)"
   ]
  },
  {
   "cell_type": "markdown",
   "metadata": {
    "slideshow": {
     "slide_type": "slide"
    }
   },
   "source": [
    "# 列表元素的个数加权和\n",
    "输入一个嵌套列表，嵌套层次不超过10，根据层次，求列表元素的加权个数和。无论输入嵌套列表实际层次，第一层每个元素算10个元素，第二层每个元素算9个元素，第三层每个元素算8个元素，第四层每个元素算7个元素,...第十层每个元素算一个元素。 如：`[1,2,[3,4,[5,6],7],8]`\n",
    "计算方法：`1*10+1*10+1*9+1*9+1*8+1*8+1*9+1*10=73`\n",
    "\n",
    "\n",
    "输入样例:\n",
    "在这里给出一组输入。例如：\n",
    "\n",
    "`[1,2,[3,4,[5,6],7],8]`\n",
    "\n",
    "输出样例:\n",
    "在这里给出相应的输出。例如：\n",
    "\n",
    "`73`"
   ]
  },
  {
   "cell_type": "code",
   "execution_count": 8,
   "metadata": {
    "slideshow": {
     "slide_type": "slide"
    }
   },
   "outputs": [
    {
     "name": "stdout",
     "output_type": "stream",
     "text": [
      "[1,2,[3,4,[5,6],7],8]\n",
      "73\n"
     ]
    }
   ],
   "source": [
    "def count(a,level):\n",
    "    if type(a).__name__ == \"list\":\n",
    "        sum = 0\n",
    "        for i in a:\n",
    "            sum += count(i,level-1)\n",
    "        return sum\n",
    "    else:\n",
    "        return level\n",
    "\n",
    "input_list = eval(input())\n",
    "print(count(input_list,11))"
   ]
  },
  {
   "cell_type": "markdown",
   "metadata": {
    "slideshow": {
     "slide_type": "slide"
    }
   },
   "source": [
    "# 文件 I/O\n",
    "open() 方法\n",
    "Python open() 方法用于打开一个文件，并返回文件对象，在对文件进行处理过程都需要使用到这个函数，如果该文件无法被打开，会抛出 OSError。\n",
    "\n",
    "**注意**：使用 open() 方法一定要保证关闭文件对象，即调用 close() 方法。\n",
    "\n",
    "open() 函数常用形式是接收两个参数：文件名(file)和模式(mode)。\n",
    "\n",
    "> open(file, mode='r')\n",
    "\n",
    "模式\t|描述\n",
    "-|-\n",
    "t\t|文本模式 (默认)。|\n",
    "x\t|写模式，新建一个文件，如果该文件已存在则会报错。|\n",
    "b\t|二进制模式。|\n",
    "+\t|打开一个文件进行更新(可读可写)。|\n",
    "r\t|以只读方式打开文件。文件的指针将会放在文件的开头。这是默认模式。|\n",
    "w\t|打开一个文件只用于写入。如果该文件已存在则打开文件，并从开头开始编辑，即原有内容会被删除。如果该文件不存在，创建新文件。|\n",
    "a\t|打开一个文件用于追加。如果该文件已存在，文件指针将会放在文件的结尾。也就是说，新的内容将会被写入到已有内容之后。如果该文件不存在，创建新文件进行写入。|"
   ]
  },
  {
   "cell_type": "markdown",
   "metadata": {
    "slideshow": {
     "slide_type": "slide"
    }
   },
   "source": [
    "# 谢谢"
   ]
  },
  {
   "cell_type": "code",
   "execution_count": 41,
   "metadata": {
    "slideshow": {
     "slide_type": "fragment"
    }
   },
   "outputs": [
    {
     "name": "stdout",
     "output_type": "stream",
     "text": [
      "See You Next Time\n"
     ]
    }
   ],
   "source": [
    "print(\"See You Next Time\")"
   ]
  }
 ],
 "metadata": {
  "celltoolbar": "幻灯片",
  "kernelspec": {
   "display_name": "Python 3",
   "language": "python",
   "name": "python3"
  },
  "language_info": {
   "codemirror_mode": {
    "name": "ipython",
    "version": 3
   },
   "file_extension": ".py",
   "mimetype": "text/x-python",
   "name": "python",
   "nbconvert_exporter": "python",
   "pygments_lexer": "ipython3",
   "version": "3.6.7"
  }
 },
 "nbformat": 4,
 "nbformat_minor": 2
}
